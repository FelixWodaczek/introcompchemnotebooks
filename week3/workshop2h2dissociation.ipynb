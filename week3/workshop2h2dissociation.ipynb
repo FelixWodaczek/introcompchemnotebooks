{
 "cells": [
  {
   "cell_type": "markdown",
   "id": "11ff973c",
   "metadata": {},
   "source": [
    "First import all what we need and install if we don't already have it:"
   ]
  },
  {
   "cell_type": "code",
   "execution_count": 1,
   "id": "27cc6680",
   "metadata": {
    "ExecuteTime": {
     "end_time": "2023-11-15T10:43:08.352518Z",
     "start_time": "2023-11-15T10:43:06.877878Z"
    }
   },
   "outputs": [
    {
     "name": "stdout",
     "output_type": "stream",
     "text": [
      "Found pyscf\n",
      "Found numpy\n",
      "Found matplotlib\n"
     ]
    }
   ],
   "source": [
    "try:\n",
    "    from pyscf import gto\n",
    "    print(\"Found pyscf\")\n",
    "except:\n",
    "    print(\"Can't import, installing via pip\")\n",
    "    !pip3 install pyscf\n",
    "    from pyscf import gto\n",
    "\n",
    "try:\n",
    "    import numpy as np\n",
    "    print(\"Found numpy\")\n",
    "except:\n",
    "    print(\"Can't import, installing via pip\")\n",
    "    !pip3 install numpy\n",
    "    import numpy as np\n",
    "\n",
    "try:\n",
    "    import matplotlib.pyplot as plt\n",
    "    print(\"Found matplotlib\")\n",
    "except:\n",
    "    print(\"Can't import, installing via pip\")\n",
    "    !pip3 install matplotlib\n",
    "    import matplotlib.pyplot as plt"
   ]
  },
  {
   "cell_type": "markdown",
   "id": "5fae867a",
   "metadata": {},
   "source": [
    "Next, set which range of bond distance you want to do:"
   ]
  },
  {
   "cell_type": "code",
   "execution_count": 2,
   "id": "a9f98bbb",
   "metadata": {
    "ExecuteTime": {
     "end_time": "2023-11-15T10:43:08.353184Z",
     "start_time": "2023-11-15T10:43:08.268800Z"
    }
   },
   "outputs": [],
   "source": [
    "length = np.around(np.linspace(0.2, 4.0, 20), decimals=2, out=None)"
   ]
  },
  {
   "cell_type": "markdown",
   "id": "319b11ae",
   "metadata": {},
   "source": [
    "Now we build our hydrogen molecule with a set bond distance and do an energy calculation, writing to a file"
   ]
  },
  {
   "cell_type": "code",
   "execution_count": 3,
   "id": "622c4910",
   "metadata": {
    "ExecuteTime": {
     "end_time": "2023-11-15T10:43:25.256095Z",
     "start_time": "2023-11-15T10:43:08.273471Z"
    }
   },
   "outputs": [
    {
     "name": "stderr",
     "output_type": "stream",
     "text": [
      "/usr/local/lib/python3.11/site-packages/pyscf/dft/libxc.py:772: UserWarning: Since PySCF-2.3, B3LYP (and B3P86) are changed to the VWN-RPA variant, the same to the B3LYP functional in Gaussian and ORCA (issue 1480). To restore the VWN5 definition, you can put the setting \"B3LYP_WITH_VWN5 = True\" in pyscf_conf.py\n",
      "  warnings.warn('Since PySCF-2.3, B3LYP (and B3P86) are changed to the VWN-RPA variant, '\n"
     ]
    },
    {
     "name": "stdout",
     "output_type": "stream",
     "text": [
      "converged SCF energy = 0.0463732882924912\n",
      "1.261882465835145 eV\n",
      "converged SCF energy = -0.942248124194469\n",
      "-25.639898100122036 eV\n",
      "converged SCF energy = -1.11620378442275\n",
      "-30.37347653627511 eV\n",
      "converged SCF energy = -1.13076400307553\n",
      "-30.76968058591643 eV\n",
      "converged SCF energy = -1.10248804116495\n",
      "-30.000251851112694 eV\n",
      "converged SCF energy = -1.06332604610006\n",
      "-28.934598827160297 eV\n",
      "converged SCF energy = -1.02368893660249\n",
      "-27.856017270555885 eV\n",
      "converged SCF energy = -0.987112723277715\n",
      "-26.86072700841057 eV\n",
      "converged SCF energy = -0.954634833053159\n",
      "-25.97695788806717 eV\n",
      "converged SCF energy = -0.926332599878499\n",
      "-25.206814275179063 eV\n",
      "converged SCF energy = -0.901914475454077\n",
      "-24.54236273002633 eV\n",
      "converged SCF energy = -0.880962354485098\n",
      "-23.972226018865104 eV\n",
      "converged SCF energy = -0.863036420201137\n",
      "-23.484436108130957 eV\n",
      "converged SCF energy = -0.847719212875052\n",
      "-23.067633330884785 eV\n",
      "converged SCF energy = -0.834632648086063\n",
      "-22.71152947771215 eV\n",
      "converged SCF energy = -0.823443027726085\n",
      "-22.407044153260962 eV\n",
      "converged SCF energy = -0.813860681984885\n",
      "-22.146295034153354 eV\n",
      "converged SCF energy = -0.805636892069374\n",
      "-21.922514131845066 eV\n",
      "converged SCF energy = -0.798559566098736\n",
      "-21.72993012764382 eV\n",
      "converged SCF energy = -0.792448678777817\n",
      "-21.5636442798013 eV\n"
     ]
    }
   ],
   "source": [
    "mol = gto.Mole()\n",
    "\n",
    "with open(r'./ps.dat', mode='w') as f:\n",
    "    for x in length:\n",
    "        mol.build(\n",
    "            atom = f'H 0 0 0; H 0 0 {x}', # in Angstrom, choose your elements here\n",
    "            basis = 'augccpvqz', #choose your basis set\n",
    "            symmetry = True,\n",
    "        )\n",
    "        mf = mol.RHF().run()\n",
    "        print(f'{mf.e_tot * 27.2114079527} eV')\n",
    "    \n",
    "        res = f'{x} {mf.e_tot * 27.2114079527}'\n",
    "        f.write(f'{res}\\n')"
   ]
  },
  {
   "cell_type": "markdown",
   "source": [],
   "metadata": {
    "collapsed": false
   },
   "id": "e09cc1b1a8b54fa"
  },
  {
   "cell_type": "code",
   "execution_count": 4,
   "id": "e5b772eb",
   "metadata": {
    "ExecuteTime": {
     "end_time": "2023-11-15T10:43:25.271469Z",
     "start_time": "2023-11-15T10:43:25.255895Z"
    }
   },
   "outputs": [],
   "source": [
    "pes = np.loadtxt(r'./ps.dat')\n",
    "dis = pes[:,0]\n",
    "energy = pes[:,1]"
   ]
  },
  {
   "cell_type": "code",
   "execution_count": 5,
   "id": "20766081",
   "metadata": {
    "ExecuteTime": {
     "end_time": "2023-11-15T10:43:25.492764Z",
     "start_time": "2023-11-15T10:43:25.262500Z"
    }
   },
   "outputs": [
    {
     "data": {
      "text/plain": "<Figure size 640x480 with 0 Axes>"
     },
     "execution_count": 5,
     "metadata": {},
     "output_type": "execute_result"
    },
    {
     "data": {
      "text/plain": "<Figure size 640x480 with 1 Axes>",
      "image/png": "[encoded data removed]"
     },
     "metadata": {},
     "output_type": "display_data"
    },
    {
     "data": {
      "text/plain": "<Figure size 640x480 with 0 Axes>"
     },
     "metadata": {},
     "output_type": "display_data"
    }
   ],
   "source": [
    "fig = plt.figure()\n",
    "\n",
    "plt.xlabel('Bond Distance (Angstroms)')\n",
    "plt.ylabel('Energy (eV)')\n",
    "\n",
    "plt.plot(dis, energy, marker='o', label='Hartree-Fock')\n",
    "\n",
    "plt.legend()\n",
    "\n",
    "#plt.savefig('fig1.pdf')\n",
    "\n",
    "plt.figure()"
   ]
  },
  {
   "cell_type": "markdown",
   "source": [
    "1. Read the documentation for pyscf for performing MP2 calculations (https://pyscf.org/user/mp.html). Perform the same calculations as before but with MP2.\n",
    "2. Read the documentation for performing full CI calculations (https://pyscf.org/user/ci.html). Repeat the dissociation curve for CI.\n",
    "3. Comment on the shapes, minima energy, and minima bond distances of the dissociation curves."
   ],
   "metadata": {
    "collapsed": false
   },
   "id": "ec271f8fa806f529"
  }
 ],
 "metadata": {
  "kernelspec": {
   "display_name": "Python 3 (ipykernel)",
   "language": "python",
   "name": "python3"
  },
  "language_info": {
   "codemirror_mode": {
    "name": "ipython",
    "version": 3
   },
   "file_extension": ".py",
   "mimetype": "text/x-python",
   "name": "python",
   "nbconvert_exporter": "python",
   "pygments_lexer": "ipython3",
   "version": "3.11.4"
  }
 },
 "nbformat": 4,
 "nbformat_minor": 5
}
