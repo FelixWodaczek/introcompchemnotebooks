{
 "cells": [
  {
   "cell_type": "markdown",
   "id": "11ff973c",
   "metadata": {},
   "source": [
    "First import all what we need and install if we don't already have it:"
   ]
  },
  {
   "cell_type": "code",
   "execution_count": null,
   "id": "27cc6680",
   "metadata": {},
   "outputs": [],
   "source": [
    "try:\n",
    "    from pyscf import gto\n",
    "    print(\"Found pyscf\")\n",
    "except:\n",
    "    print(\"Can't import, installing via pip\")\n",
    "    !pip3 install pyscf\n",
    "    from pyscf import gto\n",
    "\n",
    "try:\n",
    "    import numpy as np\n",
    "    print(\"Found numpy\")\n",
    "except:\n",
    "    print(\"Can't import, installing via pip\")\n",
    "    !pip3 install numpy\n",
    "    import numpy as np\n",
    "\n",
    "try:\n",
    "    import matplotlib.pyplot as plt\n",
    "    print(\"Found matplotlib\")\n",
    "except:\n",
    "    print(\"Can't import, installing via pip\")\n",
    "    !pip3 install matplotlib\n",
    "    import matplotlib.pyplot as plt"
   ]
  },
  {
   "cell_type": "markdown",
   "id": "5fae867a",
   "metadata": {},
   "source": [
    "Next, set which range of bond distance you want to do:"
   ]
  },
  {
   "cell_type": "code",
   "execution_count": null,
   "id": "a9f98bbb",
   "metadata": {},
   "outputs": [],
   "source": [
    "length = np.around(np.linspace(0.2, 4.0, 20), decimals=2, out=None)"
   ]
  },
  {
   "cell_type": "markdown",
   "id": "319b11ae",
   "metadata": {},
   "source": [
    "Now we build our hydrogen molecule with a set bond distance and do an energy calculation, writing to a file"
   ]
  },
  {
   "cell_type": "code",
   "execution_count": null,
   "id": "622c4910",
   "metadata": {},
   "outputs": [],
   "source": [
    "mol = gto.Mole()\n",
    "\n",
    "with open(r'./ps.dat', mode='w') as f:\n",
    "    for x in length:\n",
    "        mol.build(\n",
    "            atom = f'H 0 0 0; H 0 0 {x}', # in Angstrom, choose your elements here\n",
    "            basis = 'augccpvqz', #choose your basis set\n",
    "            symmetry = True,\n",
    "        )\n",
    "        mf = mol.RHF().run()\n",
    "        print(f'{mf.e_tot * 27.2114079527} eV')\n",
    "    \n",
    "        res = f'{x} {mf.e_tot * 27.2114079527}'\n",
    "        f.write(f'{res}\\n')"
   ]
  },
  {
   "cell_type": "code",
   "execution_count": null,
   "id": "e5b772eb",
   "metadata": {},
   "outputs": [],
   "source": [
    "pes = np.loadtxt(r'./ps.dat')\n",
    "dis = pes[:,0]\n",
    "energy = pes[:,1]"
   ]
  },
  {
   "cell_type": "code",
   "execution_count": null,
   "id": "20766081",
   "metadata": {},
   "outputs": [],
   "source": [
    "fig = plt.figure()\n",
    "\n",
    "plt.xlabel('Bond Distance (Angstroms)')\n",
    "plt.ylabel('Energy (eV)')\n",
    "\n",
    "plt.plot(dis, energy, marker='o', label='Hartree-Fock')\n",
    "\n",
    "plt.legend()\n",
    "\n",
    "#plt.savefig('fig1.pdf')\n",
    "\n",
    "plt.figure()"
   ]
  },
  {
   "cell_type": "markdown",
   "source": [
    "1. Read the documentation for pyscf for performing MP2 calculations (https://pyscf.org/user/mp.html). Perform the same calculations as before but with MP2.\n",
    "2. Read the documentation for performing full CI calculations (https://pyscf.org/user/ci.html). Repeat the dissociation curve for CI.\n",
    "3. Comment on the shapes, minima energy, and minima bond distances of the dissociation curves.\n",
    "4. Perform unrestricted/spin-mixed (1 electron orbitals) calculations for all previous calculations. Comment on how this changes the dissociation curves. Suggest what sort of dissociation is happening for restricted vs unrestricted/spin-mixed electronic structure calculations."
   ],
   "metadata": {
    "collapsed": false
   },
   "id": "ec271f8fa806f529"
  }
 ],
 "metadata": {
  "kernelspec": {
   "display_name": "Python 3 (ipykernel)",
   "language": "python",
   "name": "python3"
  },
  "language_info": {
   "codemirror_mode": {
    "name": "ipython",
    "version": 3
   },
   "file_extension": ".py",
   "mimetype": "text/x-python",
   "name": "python",
   "nbconvert_exporter": "python",
   "pygments_lexer": "ipython3",
   "version": "3.11.4"
  }
 },
 "nbformat": 4,
 "nbformat_minor": 5
}
