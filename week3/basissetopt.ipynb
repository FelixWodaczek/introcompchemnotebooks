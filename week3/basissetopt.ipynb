{
 "cells": [
  {
   "cell_type": "markdown",
   "source": [
    "First import pyscf.\n",
    "You can install pyscf with the command:"
   ],
   "metadata": {
    "collapsed": false
   },
   "id": "f4b549c24323d58a"
  },
  {
   "cell_type": "code",
   "execution_count": null,
   "outputs": [],
   "source": [
    "try:\n",
    "    from pyscf import gto\n",
    "    print(\"Found pyscf\")\n",
    "except:\n",
    "    print(\"Can't import, installing via pip\")\n",
    "    !pip3 install pyscf\n",
    "    from pyscf import gto"
   ],
   "metadata": {
    "collapsed": false
   },
   "id": "67656c125e583d1d"
  },
  {
   "cell_type": "markdown",
   "source": [
    "Now we build our basis set.\n",
    "\n",
    "The basis set is in the form:\n",
    "\n",
    " $\\psi _{STO-nG} = c_{1}\\phi_{1} + \\cdots c_{n}\\phi_{n}$\n",
    " \n",
    "where  $\\phi_{n} = \\frac{2\\alpha_{n}}{\\pi} ^{\\frac{3}{4}} e^{-\\alpha_{n}r^{2}}$"
   ],
   "metadata": {
    "collapsed": false
   },
   "id": "f189a05569208baf"
  },
  {
   "cell_type": "code",
   "execution_count": null,
   "outputs": [],
   "source": [
    "cpar = '1'\n",
    "apar = '0.28' #0.28 = optimisation\n",
    "basis = '''\n",
    "H    S\n",
    "      ''' + apar + ' ' + cpar\n",
    "singlegaussianbasis = {'H': gto.basis.parse(basis)}"
   ],
   "metadata": {
    "collapsed": false
   },
   "id": "93d604c9"
  },
  {
   "cell_type": "markdown",
   "source": [
    "Now we build our hydrogen atom which we give the point coordinates at the origin"
   ],
   "metadata": {
    "collapsed": false
   },
   "id": "6c88d679f404295a"
  },
  {
   "cell_type": "code",
   "execution_count": null,
   "outputs": [],
   "source": [
    "mol = gto.Mole()\n",
    "mol.build(atom = 'H 0.0 0.0 0.0',\n",
    "          basis = singlegaussianbasis, #sto-2g aug-cc-pVQZ\n",
    "          spin = 1, #written in 2S not 2S+1\n",
    "          unit = 'angstrom')"
   ],
   "metadata": {
    "collapsed": false
   },
   "id": "237497b5725806f4"
  },
  {
   "cell_type": "markdown",
   "source": [
    "Now we run the calculation and build our object"
   ],
   "metadata": {
    "collapsed": false
   },
   "id": "cc194a2d6a8dabd0"
  },
  {
   "cell_type": "code",
   "execution_count": null,
   "outputs": [],
   "source": [
    "mf = mol.RHF().run()"
   ],
   "metadata": {
    "collapsed": false
   },
   "id": "1c2332ec754e5b84"
  },
  {
   "cell_type": "markdown",
   "source": [
    "Finally we print the energy in atomic units (hartrees) and in electron volts"
   ],
   "metadata": {
    "collapsed": false
   },
   "id": "8d8aa1e1919a0b47"
  },
  {
   "cell_type": "code",
   "execution_count": null,
   "outputs": [],
   "source": [
    "print(f'{mf.e_tot} Hartrees')\n",
    "print(f'{mf.e_tot * 27.2114079527} eV')"
   ],
   "metadata": {
    "collapsed": false
   },
   "id": "3fa73b0b168c8191"
  },
  {
   "cell_type": "markdown",
   "source": [
    "1. Build a loop that considers our single gaussian representation of the basis set with different values for $\\alpha$, from 0.01 to 1 with 0.01 spacing, to describe the total energy of the system. Plot the total energy of the system as a function of $\\alpha$.\n",
    "2. Report the optimal value of $\\alpha$ for a single gaussian function basis set to describe a hydrogen atom.\n",
    "3. Explain why changing the value of the $c$ parameter does not change the basis set in this scenario.\n",
    "4. Consider the optimised STO-nG basis set family for n = 2-6. Plot the energy of the hydrogen atom system with increasing number of basis functions.\n",
    "5. The aug-cc-pVQZ is one of the most complete basis sets, considering 46 functions for the hydrogen atom. Report the total energy/HF energy of this system. Comment on how this value compares to the true total electronic energy of a hydrogen atom (0.5 hartrees)"
   ],
   "metadata": {
    "collapsed": false
   },
   "id": "2fe2d5c04b6e897b"
  },
  {
   "cell_type": "markdown",
   "source": [],
   "metadata": {
    "collapsed": false
   },
   "id": "456b8ee56eb8656e"
  }
 ],
 "metadata": {
  "kernelspec": {
   "display_name": "Python 3 (ipykernel)",
   "language": "python",
   "name": "python3"
  },
  "language_info": {
   "codemirror_mode": {
    "name": "ipython",
    "version": 3
   },
   "file_extension": ".py",
   "mimetype": "text/x-python",
   "name": "python",
   "nbconvert_exporter": "python",
   "pygments_lexer": "ipython3",
   "version": "3.9.12"
  }
 },
 "nbformat": 4,
 "nbformat_minor": 5
}
