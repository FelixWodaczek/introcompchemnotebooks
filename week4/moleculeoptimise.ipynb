{
 "cells": [
  {
   "cell_type": "code",
   "execution_count": null,
   "outputs": [],
   "source": [
    "try:\n",
    "    from pyscf import gto, dft\n",
    "    print(\"Found pyscf\")\n",
    "except:\n",
    "    print(\"Can't import, installing via pip\")\n",
    "    !pip3 install pyscf\n",
    "    from pyscf import gto\n",
    "\n",
    "try:\n",
    "    import numpy as np\n",
    "    print(\"Found numpy\")\n",
    "except:\n",
    "    print(\"Can't import, installing via pip\")\n",
    "    !pip3 install numpy\n",
    "    import numpy as np\n",
    "\n",
    "try:\n",
    "    import matplotlib.pyplot as plt\n",
    "    print(\"Found matplotlib\")\n",
    "except:\n",
    "    print(\"Can't import, installing via pip\")\n",
    "    !pip3 install matplotlib\n",
    "    import matplotlib.pyplot as plt\n",
    "\n",
    "try:\n",
    "    from ase import Atoms\n",
    "    from ase.build import molecule\n",
    "    from ase.visualize import view\n",
    "    from ase.io import write\n",
    "    print(\"Found ase\")\n",
    "except:\n",
    "    print(\"Can't import, installing via pip\")\n",
    "    !pip3 install ase\n",
    "    from ase import Atoms    \n",
    "    from ase.build import molecule\n",
    "    from ase.visualize import view\n",
    "    from ase.io import write\n",
    "\n",
    "try:\n",
    "    from pyscf.geomopt.geometric_solver import optimize\n",
    "    print(\"Found geometry module\")\n",
    "except:\n",
    "    print(\"Can't import, installing via pip\")\n",
    "    !pip3 install \"pyscf[geomopt]\"\n",
    "    from pyscf.geomopt.geometric_solver import optimize"
   ],
   "metadata": {
    "collapsed": false
   },
   "id": "33500b29bb17c002"
  },
  {
   "cell_type": "code",
   "execution_count": null,
   "outputs": [],
   "source": [
    "def ase2pyscf():\n",
    "    atomspyscf = []\n",
    "    pos = atoms.get_positions()\n",
    "    ele = atoms.get_chemical_symbols()\n",
    "    numatoms = atoms.get_global_number_of_atoms()\n",
    "    for atom in range(numatoms):\n",
    "        elements = list(ele[atom])\n",
    "        coords = np.ndarray.tolist(pos[atom])\n",
    "        elencoord = elements + coords\n",
    "        elencoordfix = ' '.join(map(str, elencoord))\n",
    "        atomspyscf.append(elencoordfix)\n",
    "    \n",
    "    trueoutput = \"; \".join(atomspyscf)\n",
    "    \n",
    "    return trueoutput"
   ],
   "metadata": {
    "collapsed": false
   },
   "id": "c1adabb15247098b"
  },
  {
   "cell_type": "code",
   "execution_count": null,
   "outputs": [],
   "source": [
    "moleculename = 'H2O'\n",
    "atoms = molecule(moleculename)\n",
    "inputatoms = ase2pyscf()"
   ],
   "metadata": {
    "collapsed": false
   },
   "id": "b46fd33ae75a3dec"
  },
  {
   "cell_type": "code",
   "execution_count": null,
   "outputs": [],
   "source": [
    "mol = gto.Mole()\n",
    "mol.build(atom = inputatoms,\n",
    "          basis = 'ccpvdz', \n",
    "          spin = 0, \n",
    "          unit = 'angstrom')\n",
    "\n",
    "#atom = inputatoms,\n",
    "#atom = 'O 0.0 0.0 0.119262 ; H 0.0 0.763239 -0.477047 ; H 0.0 -0.763239 -0.477047',"
   ],
   "metadata": {
    "collapsed": false
   },
   "id": "7c2cac43a530b4ec"
  },
  {
   "cell_type": "code",
   "execution_count": null,
   "outputs": [],
   "source": [
    "mf_hf = dft.RKS(mol)\n",
    "mf_hf.xc = 'pbe' # default\n",
    "mf_hf = mf_hf.newton() # second-order algortihm\n",
    "mf_hf.kernel()"
   ],
   "metadata": {
    "collapsed": false
   },
   "id": "115a1646d3b74083"
  },
  {
   "cell_type": "code",
   "execution_count": null,
   "outputs": [],
   "source": [
    "conv_params = { # These are the default settings\n",
    "    'convergence_energy': 1e-6,  # Eh\n",
    "    'convergence_grms': 3e-4,    # Eh/Bohr\n",
    "    'convergence_gmax': 4.5e-4,  # Eh/Bohr\n",
    "    'convergence_drms': 1.2e-3,  # Angstrom\n",
    "    'convergence_dmax': 1.8e-3,  # Angstrom\n",
    "}"
   ],
   "metadata": {
    "collapsed": false
   },
   "id": "fd5c74adc1da987f"
  },
  {
   "cell_type": "code",
   "execution_count": null,
   "outputs": [],
   "source": [
    "dft_energies = []\n",
    "def cb(envs):\n",
    "  mf_hf = envs[\"g_scanner\"].base\n",
    "  dft_energies.append(mf_hf.e_tot)"
   ],
   "metadata": {
    "collapsed": false
   },
   "id": "c9e53c408bdb265"
  },
  {
   "cell_type": "code",
   "execution_count": null,
   "outputs": [],
   "source": [
    "mol_eq = optimize(mf_hf, **conv_params, maxsteps=100, callback=cb)"
   ],
   "metadata": {
    "collapsed": false
   },
   "id": "a7e7f06a35981ab5"
  },
  {
   "cell_type": "code",
   "execution_count": null,
   "outputs": [],
   "source": [
    "print(mol_eq.elements)\n",
    "print(mol_eq.atom_coords())"
   ],
   "metadata": {
    "collapsed": false
   },
   "id": "a383eefe2836bd6f"
  },
  {
   "cell_type": "code",
   "execution_count": null,
   "outputs": [],
   "source": [
    "optmolecule = Atoms(mol_eq.elements, positions=mol_eq.atom_coords())"
   ],
   "metadata": {
    "collapsed": false
   },
   "id": "2929018a4b55f00d"
  },
  {
   "cell_type": "code",
   "execution_count": null,
   "outputs": [],
   "source": [
    "view(optmolecule, viewer='x3d')"
   ],
   "metadata": {
    "collapsed": false
   },
   "id": "e354b4ab723f2595"
  },
  {
   "cell_type": "code",
   "execution_count": null,
   "outputs": [],
   "source": [
    "print(dft_energies[-1])"
   ],
   "metadata": {
    "collapsed": false
   },
   "id": "a0702cea9b516f30"
  },
  {
   "cell_type": "code",
   "execution_count": null,
   "outputs": [],
   "source": [
    "write(f'{round(dft_energies[-1] * 27.2114079527, 3)} -{moleculename}.xyz', optmolecule)"
   ],
   "metadata": {
    "collapsed": false
   },
   "id": "ec9133b878c19297"
  },
  {
   "cell_type": "markdown",
   "source": [
    "1. Consider the coordinates of the system. Write a function to calculate the bond distance of the O-H bond.\n",
    "2. Compare this bond distance with the experimental bond distance for a gas phase molecule.\n",
    "3. Write a function to calculate the bond angle of the H-O-H bond as well and also compare this with experiment."
   ],
   "metadata": {
    "collapsed": false
   },
   "id": "17ca0e4e2a0b6dde"
  }
 ],
 "metadata": {
  "kernelspec": {
   "display_name": "Python 3 (ipykernel)",
   "language": "python",
   "name": "python3"
  },
  "language_info": {
   "codemirror_mode": {
    "name": "ipython",
    "version": 3
   },
   "file_extension": ".py",
   "mimetype": "text/x-python",
   "name": "python",
   "nbconvert_exporter": "python",
   "pygments_lexer": "ipython3",
   "version": "3.9.12"
  }
 },
 "nbformat": 4,
 "nbformat_minor": 5
}
