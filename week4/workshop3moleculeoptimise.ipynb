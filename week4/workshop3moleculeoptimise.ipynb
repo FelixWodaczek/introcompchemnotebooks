{
 "cells": [
  {
   "cell_type": "code",
   "execution_count": 1,
   "outputs": [
    {
     "name": "stderr",
     "output_type": "stream",
     "text": [
      "/usr/local/lib/python3.11/site-packages/pyscf/dft/libxc.py:772: UserWarning: Since PySCF-2.3, B3LYP (and B3P86) are changed to the VWN-RPA variant, the same to the B3LYP functional in Gaussian and ORCA (issue 1480). To restore the VWN5 definition, you can put the setting \"B3LYP_WITH_VWN5 = True\" in pyscf_conf.py\n",
      "  warnings.warn('Since PySCF-2.3, B3LYP (and B3P86) are changed to the VWN-RPA variant, '\n"
     ]
    },
    {
     "name": "stdout",
     "output_type": "stream",
     "text": [
      "Found pyscf\n",
      "Found numpy\n",
      "Found matplotlib\n",
      "Found ase\n",
      "Found geometry module\n"
     ]
    }
   ],
   "source": [
    "try:\n",
    "    from pyscf import gto, dft\n",
    "    print(\"Found pyscf\")\n",
    "except:\n",
    "    print(\"Can't import, installing via pip\")\n",
    "    !pip3 install pyscf\n",
    "    from pyscf import gto\n",
    "\n",
    "try:\n",
    "    import numpy as np\n",
    "    print(\"Found numpy\")\n",
    "except:\n",
    "    print(\"Can't import, installing via pip\")\n",
    "    !pip3 install numpy\n",
    "    import numpy as np\n",
    "\n",
    "try:\n",
    "    import matplotlib.pyplot as plt\n",
    "    print(\"Found matplotlib\")\n",
    "except:\n",
    "    print(\"Can't import, installing via pip\")\n",
    "    !pip3 install matplotlib\n",
    "    import matplotlib.pyplot as plt\n",
    "\n",
    "try:\n",
    "    from ase import Atoms\n",
    "    from ase.build import molecule\n",
    "    from ase.visualize import view\n",
    "    from ase.io import write\n",
    "    print(\"Found ase\")\n",
    "except:\n",
    "    print(\"Can't import, installing via pip\")\n",
    "    !pip3 install ase\n",
    "    from ase import Atoms    \n",
    "    from ase.build import molecule\n",
    "    from ase.visualize import view\n",
    "    from ase.io import write\n",
    "\n",
    "try:\n",
    "    from pyscf.geomopt.geometric_solver import optimize\n",
    "    print(\"Found geometry module\")\n",
    "except:\n",
    "    print(\"Can't import, installing via pip\")\n",
    "    !pip3 install \"pyscf[geomopt]\"\n",
    "    from pyscf.geomopt.geometric_solver import optimize"
   ],
   "metadata": {
    "collapsed": false,
    "ExecuteTime": {
     "end_time": "2023-11-15T10:43:37.616672Z",
     "start_time": "2023-11-15T10:43:36.200519Z"
    }
   },
   "id": "33500b29bb17c002"
  },
  {
   "cell_type": "code",
   "execution_count": 2,
   "outputs": [],
   "source": [
    "def ase2pyscf():\n",
    "    atomspyscf = []\n",
    "    pos = atoms.get_positions()\n",
    "    ele = atoms.get_chemical_symbols()\n",
    "    numatoms = atoms.get_global_number_of_atoms()\n",
    "    for atom in range(numatoms):\n",
    "        elements = list(ele[atom])\n",
    "        coords = np.ndarray.tolist(pos[atom])\n",
    "        elencoord = elements + coords\n",
    "        elencoordfix = ' '.join(map(str, elencoord))\n",
    "        atomspyscf.append(elencoordfix)\n",
    "    \n",
    "    trueoutput = \"; \".join(atomspyscf)\n",
    "    \n",
    "    return trueoutput"
   ],
   "metadata": {
    "collapsed": false,
    "ExecuteTime": {
     "end_time": "2023-11-15T10:43:37.616944Z",
     "start_time": "2023-11-15T10:43:37.595036Z"
    }
   },
   "id": "c1adabb15247098b"
  },
  {
   "cell_type": "code",
   "execution_count": 3,
   "outputs": [],
   "source": [
    "moleculename = 'H2O'\n",
    "atoms = molecule(moleculename)\n",
    "inputatoms = ase2pyscf()"
   ],
   "metadata": {
    "collapsed": false,
    "ExecuteTime": {
     "end_time": "2023-11-15T10:43:37.617136Z",
     "start_time": "2023-11-15T10:43:37.599062Z"
    }
   },
   "id": "b46fd33ae75a3dec"
  },
  {
   "cell_type": "code",
   "execution_count": 4,
   "outputs": [
    {
     "data": {
      "text/plain": "<pyscf.gto.mole.Mole at 0x135813590>"
     },
     "execution_count": 4,
     "metadata": {},
     "output_type": "execute_result"
    }
   ],
   "source": [
    "mol = gto.Mole()\n",
    "mol.build(atom = inputatoms,\n",
    "          basis = 'ccpvdz', \n",
    "          spin = 0, \n",
    "          unit = 'angstrom')\n",
    "\n",
    "#atom = inputatoms,\n",
    "#atom = 'O 0.0 0.0 0.119262 ; H 0.0 0.763239 -0.477047 ; H 0.0 -0.763239 -0.477047',"
   ],
   "metadata": {
    "collapsed": false,
    "ExecuteTime": {
     "end_time": "2023-11-15T10:43:37.686935Z",
     "start_time": "2023-11-15T10:43:37.671436Z"
    }
   },
   "id": "7c2cac43a530b4ec"
  },
  {
   "cell_type": "code",
   "execution_count": 5,
   "outputs": [
    {
     "name": "stdout",
     "output_type": "stream",
     "text": [
      "converged SCF energy = -76.3339693175618\n"
     ]
    },
    {
     "data": {
      "text/plain": "-76.33396931756181"
     },
     "execution_count": 5,
     "metadata": {},
     "output_type": "execute_result"
    }
   ],
   "source": [
    "mf_hf = dft.RKS(mol)\n",
    "mf_hf.xc = 'pbe' # default\n",
    "mf_hf = mf_hf.newton() # second-order algortihm\n",
    "mf_hf.kernel()"
   ],
   "metadata": {
    "collapsed": false,
    "ExecuteTime": {
     "end_time": "2023-11-15T10:43:38.971358Z",
     "start_time": "2023-11-15T10:43:37.686294Z"
    }
   },
   "id": "115a1646d3b74083"
  },
  {
   "cell_type": "code",
   "execution_count": 6,
   "outputs": [],
   "source": [
    "conv_params = { # These are the default settings\n",
    "    'convergence_energy': 1e-6,  # Eh\n",
    "    'convergence_grms': 3e-4,    # Eh/Bohr\n",
    "    'convergence_gmax': 4.5e-4,  # Eh/Bohr\n",
    "    'convergence_drms': 1.2e-3,  # Angstrom\n",
    "    'convergence_dmax': 1.8e-3,  # Angstrom\n",
    "}"
   ],
   "metadata": {
    "collapsed": false,
    "ExecuteTime": {
     "end_time": "2023-11-15T10:43:38.971836Z",
     "start_time": "2023-11-15T10:43:38.964693Z"
    }
   },
   "id": "fd5c74adc1da987f"
  },
  {
   "cell_type": "code",
   "execution_count": 7,
   "outputs": [],
   "source": [
    "dft_energies = []\n",
    "def cb(envs):\n",
    "  mf_hf = envs[\"g_scanner\"].base\n",
    "  dft_energies.append(mf_hf.e_tot)"
   ],
   "metadata": {
    "collapsed": false,
    "ExecuteTime": {
     "end_time": "2023-11-15T10:43:38.974357Z",
     "start_time": "2023-11-15T10:43:38.970274Z"
    }
   },
   "id": "c9e53c408bdb265"
  },
  {
   "cell_type": "code",
   "execution_count": 8,
   "outputs": [
    {
     "name": "stderr",
     "output_type": "stream",
     "text": [
      "geometric-optimize called with the following command line:\n",
      "/usr/local/lib/python3.11/site-packages/ipykernel_launcher.py -f /Users/rhysbunting/Library/Jupyter/runtime/kernel-ceabb60f-b916-4b89-8bb8-3b89581e76a8.json\n",
      "\n",
      "                                        \u001B[91m())))))))))))))))/\u001B[0m                     \n",
      "                                    \u001B[91m())))))))))))))))))))))))),\u001B[0m                \n",
      "                                \u001B[91m*)))))))))))))))))))))))))))))))))\u001B[0m             \n",
      "                        \u001B[94m#,\u001B[0m    \u001B[91m()))))))))/\u001B[0m                \u001B[91m.)))))))))),\u001B[0m          \n",
      "                      \u001B[94m#%%%%,\u001B[0m  \u001B[91m())))))\u001B[0m                        \u001B[91m.))))))))*\u001B[0m        \n",
      "                      \u001B[94m*%%%%%%,\u001B[0m  \u001B[91m))\u001B[0m              \u001B[93m..\u001B[0m              \u001B[91m,))))))).\u001B[0m      \n",
      "                        \u001B[94m*%%%%%%,\u001B[0m         \u001B[93m***************/.\u001B[0m        \u001B[91m.)))))))\u001B[0m     \n",
      "                \u001B[94m#%%/\u001B[0m      \u001B[94m(%%%%%%,\u001B[0m    \u001B[93m/*********************.\u001B[0m       \u001B[91m)))))))\u001B[0m    \n",
      "              \u001B[94m.%%%%%%#\u001B[0m      \u001B[94m*%%%%%%,\u001B[0m  \u001B[93m*******/,\u001B[0m     \u001B[93m**********,\u001B[0m      \u001B[91m.))))))\u001B[0m   \n",
      "                \u001B[94m.%%%%%%/\u001B[0m      \u001B[94m*%%%%%%,\u001B[0m  \u001B[93m**\u001B[0m              \u001B[93m********\u001B[0m      \u001B[91m.))))))\u001B[0m  \n",
      "          \u001B[94m##\u001B[0m      \u001B[94m.%%%%%%/\u001B[0m      \u001B[94m(%%%%%%,\u001B[0m                  \u001B[93m,******\u001B[0m      \u001B[91m/)))))\u001B[0m  \n",
      "        \u001B[94m%%%%%%\u001B[0m      \u001B[94m.%%%%%%#\u001B[0m      \u001B[94m*%%%%%%,\u001B[0m    \u001B[92m,/////.\u001B[0m       \u001B[93m******\u001B[0m      \u001B[91m))))))\u001B[0m \n",
      "      \u001B[94m#%\u001B[0m      \u001B[94m%%\u001B[0m      \u001B[94m.%%%%%%/\u001B[0m      \u001B[94m*%%%%%%,\u001B[0m  \u001B[92m////////,\u001B[0m      \u001B[93m*****/\u001B[0m     \u001B[91m,)))))\u001B[0m \n",
      "    \u001B[94m#%%\u001B[0m  \u001B[94m%%%\u001B[0m  \u001B[94m%%%#\u001B[0m      \u001B[94m.%%%%%%/\u001B[0m      \u001B[94m(%%%%%%,\u001B[0m  \u001B[92m///////.\u001B[0m     \u001B[93m/*****\u001B[0m      \u001B[91m))))).\u001B[0m\n",
      "  \u001B[94m#%%%%.\u001B[0m      \u001B[94m%%%%%#\u001B[0m      \u001B[94m/%%%%%%*\u001B[0m      \u001B[94m#%%%%%%\u001B[0m   \u001B[92m/////)\u001B[0m     \u001B[93m******\u001B[0m      \u001B[91m))))),\u001B[0m\n",
      "    \u001B[94m#%%%%##%\u001B[0m  \u001B[94m%%%#\u001B[0m      \u001B[94m.%%%%%%/\u001B[0m      \u001B[94m(%%%%%%,\u001B[0m  \u001B[92m///////.\u001B[0m     \u001B[93m/*****\u001B[0m      \u001B[91m))))).\u001B[0m\n",
      "      \u001B[94m##\u001B[0m     \u001B[94m%%%\u001B[0m      \u001B[94m.%%%%%%/\u001B[0m      \u001B[94m*%%%%%%,\u001B[0m  \u001B[92m////////.\u001B[0m      \u001B[93m*****/\u001B[0m     \u001B[91m,)))))\u001B[0m \n",
      "        \u001B[94m#%%%%#\u001B[0m      \u001B[94m/%%%%%%/\u001B[0m      \u001B[94m(%%%%%%\u001B[0m      \u001B[92m/)/)//\u001B[0m       \u001B[93m******\u001B[0m      \u001B[91m))))))\u001B[0m \n",
      "          \u001B[94m##\u001B[0m      \u001B[94m.%%%%%%/\u001B[0m      \u001B[94m(%%%%%%,\u001B[0m                  \u001B[93m*******\u001B[0m      \u001B[91m))))))\u001B[0m  \n",
      "                \u001B[94m.%%%%%%/\u001B[0m      \u001B[94m*%%%%%%,\u001B[0m  \u001B[93m**.\u001B[0m             \u001B[93m/*******\u001B[0m      \u001B[91m.))))))\u001B[0m  \n",
      "              \u001B[94m*%%%%%%/\u001B[0m      \u001B[94m(%%%%%%\u001B[0m   \u001B[93m********/*..,*/*********\u001B[0m       \u001B[91m*))))))\u001B[0m   \n",
      "                \u001B[94m#%%/\u001B[0m      \u001B[94m(%%%%%%,\u001B[0m    \u001B[93m*********************/\u001B[0m        \u001B[91m)))))))\u001B[0m    \n",
      "                        \u001B[94m*%%%%%%,\u001B[0m         \u001B[93m,**************/\u001B[0m         \u001B[91m,))))))/\u001B[0m     \n",
      "                      \u001B[94m(%%%%%%\u001B[0m   \u001B[91m()\u001B[0m                              \u001B[91m))))))))\u001B[0m       \n",
      "                      \u001B[94m#%%%%,\u001B[0m  \u001B[91m())))))\u001B[0m                        \u001B[91m,)))))))),\u001B[0m        \n",
      "                        \u001B[94m#,\u001B[0m    \u001B[91m())))))))))\u001B[0m                \u001B[91m,)))))))))).\u001B[0m          \n",
      "                                 \u001B[91m()))))))))))))))))))))))))))))))/\u001B[0m             \n",
      "                                    \u001B[91m())))))))))))))))))))))))).\u001B[0m                \n",
      "                                         \u001B[91m())))))))))))))),\u001B[0m                     \n",
      "\n",
      "-=# \u001B[1;94m geomeTRIC started. Version: 1.0.1 \u001B[0m #=-\n",
      "Current date and time: 2023-11-15 11:43:38\n",
      "Custom engine selected.\n",
      "Bonds will be generated from interatomic distances less than 1.20 times sum of covalent radii\n",
      "9 internal coordinates being used (instead of 9 Cartesians)\n",
      "Internal coordinate system (atoms numbered from 1):\n",
      "Distance 1-2\n",
      "Distance 1-3\n",
      "Angle 2-1-3\n",
      "Translation-X 1-3\n",
      "Translation-Y 1-3\n",
      "Translation-Z 1-3\n",
      "Rotation-A 1-3\n",
      "Rotation-B 1-3\n",
      "Rotation-C 1-3\n",
      "<class 'geometric.internal.Distance'> : 2\n",
      "<class 'geometric.internal.Angle'> : 1\n",
      "<class 'geometric.internal.TranslationX'> : 1\n",
      "<class 'geometric.internal.TranslationY'> : 1\n",
      "<class 'geometric.internal.TranslationZ'> : 1\n",
      "<class 'geometric.internal.RotationA'> : 1\n",
      "<class 'geometric.internal.RotationB'> : 1\n",
      "<class 'geometric.internal.RotationC'> : 1\n",
      "> ===== Optimization Info: ====\n",
      "> Job type: Energy minimization\n",
      "> Maximum number of optimization cycles: 300\n",
      "> Initial / maximum trust radius (Angstrom): 0.100 / 0.300\n",
      "> Convergence Criteria:\n",
      "> Will converge when all 5 criteria are reached:\n",
      ">  |Delta-E| < 1.00e-06\n",
      ">  RMS-Grad  < 3.00e-04\n",
      ">  Max-Grad  < 4.50e-04\n",
      ">  RMS-Disp  < 1.20e-03\n",
      ">  Max-Disp  < 1.80e-03\n",
      "> === End Optimization Info ===\n"
     ]
    },
    {
     "name": "stdout",
     "output_type": "stream",
     "text": [
      "\n",
      "Geometry optimization cycle 1\n",
      "Cartesian coordinates (Angstrom)\n",
      " Atom        New coordinates             dX        dY        dZ\n",
      "   O   0.000000   0.000000   0.119262    0.000000  0.000000  0.000000\n",
      "   H   0.000000   0.763239  -0.477047    0.000000  0.000000  0.000000\n",
      "   H   0.000000  -0.763239  -0.477047    0.000000  0.000000  0.000000\n",
      "converged SCF energy = -76.3339693175634\n",
      "--------------- SCF_Scanner gradients ---------------\n",
      "         x                y                z\n",
      "0 O     0.0000000000    -0.0000000000    -0.0128451579\n",
      "1 H     0.0000000000    -0.0033285029     0.0064242025\n",
      "2 H     0.0000000000     0.0033285029     0.0064242025\n",
      "----------------------------------------------\n",
      "cycle 1: E = -76.3339693176  dE = -76.334  norm(grad) = 0.0164224\n"
     ]
    },
    {
     "name": "stderr",
     "output_type": "stream",
     "text": [
      "Step    0 : Gradient = 9.482e-03/1.285e-02 (rms/max) Energy = -76.3339693176\n",
      "Hessian Eigenvalues: 5.00000e-02 5.00000e-02 5.00000e-02 ... 1.60000e-01 5.36712e-01 5.36712e-01\n"
     ]
    },
    {
     "name": "stdout",
     "output_type": "stream",
     "text": [
      "\n",
      "Geometry optimization cycle 2\n",
      "Cartesian coordinates (Angstrom)\n",
      " Atom        New coordinates             dX        dY        dZ\n",
      "   O  -0.000000   0.000000   0.130655   -0.000000  0.000000  0.011393\n",
      "   H  -0.000000   0.757893  -0.482795   -0.000000 -0.005346 -0.005748\n",
      "   H  -0.000000  -0.757893  -0.482795   -0.000000  0.005346 -0.005748\n",
      "\n",
      "WARN: Large deviations found between the input molecule and the molecule from chkfile\n",
      "Initial guess density matrix may have large error.\n",
      "converged SCF energy = -76.3341776907934\n",
      "--------------- SCF_Scanner gradients ---------------\n",
      "         x                y                z\n",
      "0 O     0.0000000000     0.0000000000    -0.0026412135\n",
      "1 H     0.0000000000    -0.0009584248     0.0013215230\n",
      "2 H    -0.0000000000     0.0009584248     0.0013215230\n",
      "----------------------------------------------\n",
      "cycle 2: E = -76.3341776908  dE = -0.000208373  norm(grad) = 0.00350799\n"
     ]
    },
    {
     "name": "stderr",
     "output_type": "stream",
     "text": [
      "Step    1 : Displace = \u001B[0m9.184e-03\u001B[0m/\u001B[0m1.143e-02\u001B[0m (rms/max) Trust = 1.000e-01 (=) Grad = \u001B[0m2.025e-03\u001B[0m/\u001B[0m2.641e-03\u001B[0m (rms/max) E (change) = -76.3341776908 (\u001B[0m-2.084e-04\u001B[0m) Quality = \u001B[0m1.187\u001B[0m\n",
      "Hessian Eigenvalues: 5.00000e-02 5.00000e-02 5.00000e-02 ... 1.49220e-01 4.68101e-01 5.36712e-01\n"
     ]
    },
    {
     "name": "stdout",
     "output_type": "stream",
     "text": [
      "\n",
      "Geometry optimization cycle 3\n",
      "Cartesian coordinates (Angstrom)\n",
      " Atom        New coordinates             dX        dY        dZ\n",
      "   O  -0.000000  -0.000000   0.132990   -0.000000 -0.000000  0.002335\n",
      "   H  -0.000000   0.757511  -0.483999   -0.000000 -0.000382 -0.001204\n",
      "   H  -0.000000  -0.757511  -0.483999   -0.000000  0.000382 -0.001204\n",
      "\n",
      "WARN: Large deviations found between the input molecule and the molecule from chkfile\n",
      "Initial guess density matrix may have large error.\n",
      "converged SCF energy = -76.3341859029953\n",
      "--------------- SCF_Scanner gradients ---------------\n",
      "         x                y                z\n",
      "0 O     0.0000000000    -0.0000000000    -0.0000155191\n",
      "1 H    -0.0000000000     0.0000079482     0.0000086709\n",
      "2 H     0.0000000000    -0.0000079482     0.0000086709\n",
      "----------------------------------------------\n",
      "cycle 3: E = -76.334185903  dE = -8.2122e-06  norm(grad) = 2.27499e-05\n"
     ]
    },
    {
     "name": "stderr",
     "output_type": "stream",
     "text": [
      "Step    2 : Displace = \u001B[0m1.697e-03\u001B[0m/\u001B[0m2.359e-03\u001B[0m (rms/max) Trust = 1.414e-01 (\u001B[92m+\u001B[0m) Grad = \u001B[92m1.313e-05\u001B[0m/\u001B[92m1.552e-05\u001B[0m (rms/max) E (change) = -76.3341859030 (\u001B[0m-8.212e-06\u001B[0m) Quality = \u001B[0m1.008\u001B[0m\n",
      "Hessian Eigenvalues: 4.99994e-02 5.00000e-02 5.00000e-02 ... 1.47181e-01 4.71107e-01 5.36712e-01\n"
     ]
    },
    {
     "name": "stdout",
     "output_type": "stream",
     "text": [
      "\n",
      "Geometry optimization cycle 4\n",
      "Cartesian coordinates (Angstrom)\n",
      " Atom        New coordinates             dX        dY        dZ\n",
      "   O  -0.000000  -0.000000   0.133007   -0.000000  0.000000  0.000017\n",
      "   H  -0.000000   0.757469  -0.484036   -0.000000 -0.000041 -0.000038\n",
      "   H  -0.000000  -0.757469  -0.484036   -0.000000  0.000041 -0.000038\n",
      "converged SCF energy = -76.3341859044688\n",
      "--------------- SCF_Scanner gradients ---------------\n",
      "         x                y                z\n",
      "0 O     0.0000000000    -0.0000000000    -0.0000005211\n",
      "1 H     0.0000000000    -0.0000016451     0.0000011698\n",
      "2 H    -0.0000000000     0.0000016451     0.0000011698\n",
      "----------------------------------------------\n",
      "cycle 4: E = -76.3341859045  dE = -1.47351e-09  norm(grad) = 2.90188e-06\n"
     ]
    },
    {
     "name": "stderr",
     "output_type": "stream",
     "text": [
      "Step    3 : Displace = \u001B[92m4.243e-05\u001B[0m/\u001B[92m4.520e-05\u001B[0m (rms/max) Trust = 2.000e-01 (\u001B[92m+\u001B[0m) Grad = \u001B[92m1.675e-06\u001B[0m/\u001B[92m2.019e-06\u001B[0m (rms/max) E (change) = -76.3341859045 (\u001B[92m-1.474e-09\u001B[0m) Quality = \u001B[0m0.993\u001B[0m\n",
      "Hessian Eigenvalues: 4.99994e-02 5.00000e-02 5.00000e-02 ... 1.47181e-01 4.71107e-01 5.36712e-01\n",
      "Converged! =D\n",
      "\n",
      "    #==========================================================================#\n",
      "    #| If this code has benefited your research, please support us by citing: |#\n",
      "    #|                                                                        |#\n",
      "    #| Wang, L.-P.; Song, C.C. (2016) \"Geometry optimization made simple with |#\n",
      "    #| translation and rotation coordinates\", J. Chem, Phys. 144, 214108.     |#\n",
      "    #| http://dx.doi.org/10.1063/1.4952956                                    |#\n",
      "    #==========================================================================#\n",
      "    Time elapsed since start of run_optimizer: 3.027 seconds\n"
     ]
    }
   ],
   "source": [
    "mol_eq = optimize(mf_hf, **conv_params, maxsteps=100, callback=cb)"
   ],
   "metadata": {
    "collapsed": false,
    "ExecuteTime": {
     "end_time": "2023-11-15T10:43:42.035934Z",
     "start_time": "2023-11-15T10:43:38.976405Z"
    }
   },
   "id": "a7e7f06a35981ab5"
  },
  {
   "cell_type": "code",
   "execution_count": 9,
   "outputs": [
    {
     "name": "stdout",
     "output_type": "stream",
     "text": [
      "['O', 'H', 'H']\n",
      "[[-7.29693162e-14 -7.01871121e-14  2.51346753e-01]\n",
      " [-4.50278015e-14  1.43140915e+00 -9.14695872e-01]\n",
      " [-4.39672069e-14 -1.43140915e+00 -9.14695872e-01]]\n"
     ]
    }
   ],
   "source": [
    "print(mol_eq.elements)\n",
    "print(mol_eq.atom_coords())"
   ],
   "metadata": {
    "collapsed": false,
    "ExecuteTime": {
     "end_time": "2023-11-15T10:43:42.040377Z",
     "start_time": "2023-11-15T10:43:42.036696Z"
    }
   },
   "id": "a383eefe2836bd6f"
  },
  {
   "cell_type": "code",
   "execution_count": 10,
   "outputs": [],
   "source": [
    "optmolecule = Atoms(mol_eq.elements, positions=mol_eq.atom_coords())"
   ],
   "metadata": {
    "collapsed": false,
    "ExecuteTime": {
     "end_time": "2023-11-15T10:43:42.086956Z",
     "start_time": "2023-11-15T10:43:42.045359Z"
    }
   },
   "id": "2929018a4b55f00d"
  },
  {
   "cell_type": "code",
   "execution_count": 11,
   "outputs": [
    {
     "data": {
      "text/plain": "<IPython.core.display.HTML object>",
      "text/html": "<html>\n\n <head>\n\n  <title>ASE atomic visualization</title>\n\n  <link rel=\"stylesheet\" type=\"text/css\"\n\n   href=\"https://www.x3dom.org/x3dom/release/x3dom.css\">\n\n  </link>\n\n  <script type=\"text/javascript\"\n\n   src=\"https://www.x3dom.org/x3dom/release/x3dom.js\">\n\n  </script>\n\n </head>\n\n <body>\n\n  <X3D>\n\n   <Scene>\n\n    <Transform translation=\"-0.00 -0.00 0.25\">\n\n     <Shape>\n\n      <Appearance>\n\n       <Material diffuseColor=\"1.000 0.051 0.051\" specularColor=\"0.5 0.5 0.5\">\n\n       </Material>\n\n      </Appearance>\n\n      <Sphere radius=\"0.66\">\n\n      </Sphere>\n\n     </Shape>\n\n    </Transform>\n\n    <Transform translation=\"-0.00 1.43 -0.91\">\n\n     <Shape>\n\n      <Appearance>\n\n       <Material diffuseColor=\"1.000 1.000 1.000\" specularColor=\"0.5 0.5 0.5\">\n\n       </Material>\n\n      </Appearance>\n\n      <Sphere radius=\"0.31\">\n\n      </Sphere>\n\n     </Shape>\n\n    </Transform>\n\n    <Transform translation=\"-0.00 -1.43 -0.91\">\n\n     <Shape>\n\n      <Appearance>\n\n       <Material diffuseColor=\"1.000 1.000 1.000\" specularColor=\"0.5 0.5 0.5\">\n\n       </Material>\n\n      </Appearance>\n\n      <Sphere radius=\"0.31\">\n\n      </Sphere>\n\n     </Shape>\n\n    </Transform>\n\n   </Scene>\n\n  </X3D>\n\n </body>\n\n</html>\n\n"
     },
     "execution_count": 11,
     "metadata": {},
     "output_type": "execute_result"
    }
   ],
   "source": [
    "view(optmolecule, viewer='x3d')"
   ],
   "metadata": {
    "collapsed": false,
    "ExecuteTime": {
     "end_time": "2023-11-15T10:43:42.103759Z",
     "start_time": "2023-11-15T10:43:42.049977Z"
    }
   },
   "id": "e354b4ab723f2595"
  },
  {
   "cell_type": "code",
   "execution_count": 12,
   "outputs": [
    {
     "name": "stdout",
     "output_type": "stream",
     "text": [
      "-76.33418590446877\n"
     ]
    }
   ],
   "source": [
    "print(dft_energies[-1])"
   ],
   "metadata": {
    "collapsed": false,
    "ExecuteTime": {
     "end_time": "2023-11-15T10:43:42.105254Z",
     "start_time": "2023-11-15T10:43:42.059704Z"
    }
   },
   "id": "a0702cea9b516f30"
  },
  {
   "cell_type": "code",
   "execution_count": 13,
   "outputs": [],
   "source": [
    "write(f'{dft_energies[-1] * 27.2114079527}-{moleculename}.xyz', optmolecule)"
   ],
   "metadata": {
    "collapsed": false,
    "ExecuteTime": {
     "end_time": "2023-11-15T10:43:42.117752Z",
     "start_time": "2023-11-15T10:43:42.066440Z"
    }
   },
   "id": "ec9133b878c19297"
  },
  {
   "cell_type": "code",
   "execution_count": 13,
   "outputs": [],
   "source": [],
   "metadata": {
    "collapsed": false,
    "ExecuteTime": {
     "end_time": "2023-11-15T10:43:42.118141Z",
     "start_time": "2023-11-15T10:43:42.075820Z"
    }
   },
   "id": "bb3964d7770ba81d"
  }
 ],
 "metadata": {
  "kernelspec": {
   "display_name": "Python 3 (ipykernel)",
   "language": "python",
   "name": "python3"
  },
  "language_info": {
   "codemirror_mode": {
    "name": "ipython",
    "version": 3
   },
   "file_extension": ".py",
   "mimetype": "text/x-python",
   "name": "python",
   "nbconvert_exporter": "python",
   "pygments_lexer": "ipython3",
   "version": "3.9.12"
  }
 },
 "nbformat": 4,
 "nbformat_minor": 5
}
