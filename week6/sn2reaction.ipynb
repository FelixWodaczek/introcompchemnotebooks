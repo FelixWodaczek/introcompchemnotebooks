{
 "cells": [
  {
   "cell_type": "code",
   "execution_count": null,
   "outputs": [],
   "source": [
    "try:\n",
    "    from pyscf import gto, dft\n",
    "    print(\"Found pyscf\")\n",
    "except:\n",
    "    print(\"Can't import, installing via pip\")\n",
    "    !pip3 install pyscf\n",
    "    from pyscf import gto\n",
    "\n",
    "try:\n",
    "    import numpy as np\n",
    "    print(\"Found numpy\")\n",
    "except:\n",
    "    print(\"Can't import, installing via pip\")\n",
    "    !pip3 install numpy\n",
    "    import numpy as np\n",
    "\n",
    "try:\n",
    "    import matplotlib.pyplot as plt\n",
    "    print(\"Found matplotlib\")\n",
    "except:\n",
    "    print(\"Can't import, installing via pip\")\n",
    "    !pip3 install matplotlib\n",
    "    import matplotlib.pyplot as plt\n",
    "\n",
    "try:\n",
    "    from ase import Atoms\n",
    "    from ase.build import molecule\n",
    "    from ase.visualize import view\n",
    "    from ase.io import write\n",
    "    print(\"Found ase\")\n",
    "except:\n",
    "    print(\"Can't import, installing via pip\")\n",
    "    !pip3 install ase\n",
    "    from ase import Atoms    \n",
    "    from ase.build import molecule\n",
    "    from ase.visualize import view\n",
    "    from ase.io import write\n",
    "\n",
    "try:\n",
    "    from pyscf.geomopt.geometric_solver import optimize\n",
    "    print(\"Found geometry module\")\n",
    "except:\n",
    "    print(\"Can't import, installing via pip\")\n",
    "    !pip3 install \"pyscf[geomopt]\"\n",
    "    from pyscf.geomopt.geometric_solver import optimize"
   ],
   "metadata": {
    "collapsed": false
   },
   "id": "33500b29bb17c002"
  },
  {
   "cell_type": "code",
   "execution_count": null,
   "outputs": [],
   "source": [
    "def ase2pyscf():\n",
    "    atomspyscf = []\n",
    "    pos = atoms.get_positions()\n",
    "    ele = atoms.get_chemical_symbols()\n",
    "    numatoms = atoms.get_global_number_of_atoms()\n",
    "    for atom in range(numatoms):\n",
    "        elements = list(ele[atom])\n",
    "        coords = np.ndarray.tolist(pos[atom])\n",
    "        elencoord = elements + coords\n",
    "        elencoordfix = ' '.join(map(str, elencoord))\n",
    "        atomspyscf.append(elencoordfix)\n",
    "    \n",
    "    trueoutput = \"; \".join(atomspyscf)\n",
    "    \n",
    "    return trueoutput"
   ],
   "metadata": {
    "collapsed": false
   },
   "id": "c1adabb15247098b"
  },
  {
   "cell_type": "code",
   "execution_count": null,
   "outputs": [],
   "source": [
    "moleculename = 'H2O'\n",
    "atoms = molecule(moleculename)\n",
    "inputatoms = ase2pyscf()"
   ],
   "metadata": {
    "collapsed": false
   },
   "id": "b46fd33ae75a3dec"
  },
  {
   "cell_type": "code",
   "execution_count": null,
   "outputs": [],
   "source": [
    "mol = gto.Mole()\n",
    "mol.build(atom = 'F -3.60733123  0.47284034 -0.00930631 ; C -0.91722962  0.43123757 -0.01265668 ; Cl 5.03944822  0.34185537 -0.01893118 ; H -0.21105407 -1.53952617 -0.03477183 ; H -0.16367267  1.38116357  1.69405262 ; H -0.16741984  1.41794644 -1.70001586',\n",
    "          basis = 'ccpvdz', \n",
    "          spin = 0,\n",
    "          charge = -1,\n",
    "          unit = 'angstrom')\n",
    "\n",
    "#atom = inputatoms,\n",
    "#atom = 'O 0.0 0.0 0.119262 ; H 0.0 0.763239 -0.477047 ; H 0.0 -0.763239 -0.477047',"
   ],
   "metadata": {
    "collapsed": false
   },
   "id": "7c2cac43a530b4ec"
  },
  {
   "cell_type": "code",
   "execution_count": null,
   "outputs": [],
   "source": [
    "mf_hf = dft.RKS(mol)\n",
    "mf_hf.xc = 'pbe' # default\n",
    "mf_hf = mf_hf.newton() # second-order algortihm\n",
    "mf_hf.kernel()"
   ],
   "metadata": {
    "collapsed": false
   },
   "id": "115a1646d3b74083"
  },
  {
   "cell_type": "code",
   "execution_count": null,
   "outputs": [],
   "source": [
    "conv_params = { # These are the default settings\n",
    "    'convergence_energy': 1e-6,  # Eh\n",
    "    'convergence_grms': 3e-4,    # Eh/Bohr\n",
    "    'convergence_gmax': 4.5e-4,  # Eh/Bohr\n",
    "    'convergence_drms': 1.2e-3,  # Angstrom\n",
    "    'convergence_dmax': 1.8e-3,  # Angstrom\n",
    "}"
   ],
   "metadata": {
    "collapsed": false
   },
   "id": "fd5c74adc1da987f"
  },
  {
   "cell_type": "code",
   "execution_count": null,
   "outputs": [],
   "source": [
    "dft_energies = []\n",
    "def cb(envs):\n",
    "  mf_hf = envs[\"g_scanner\"].base\n",
    "  dft_energies.append(mf_hf.e_tot)"
   ],
   "metadata": {
    "collapsed": false
   },
   "id": "c9e53c408bdb265"
  },
  {
   "cell_type": "code",
   "execution_count": null,
   "outputs": [],
   "source": [
    "mol_eq = optimize(mf_hf, **conv_params, maxsteps=100, callback=cb)"
   ],
   "metadata": {
    "collapsed": false
   },
   "id": "a7e7f06a35981ab5"
  },
  {
   "cell_type": "code",
   "execution_count": null,
   "outputs": [],
   "source": [
    "print(mol_eq.elements)\n",
    "print(mol_eq.atom_coords())"
   ],
   "metadata": {
    "collapsed": false
   },
   "id": "a383eefe2836bd6f"
  },
  {
   "cell_type": "code",
   "execution_count": null,
   "outputs": [],
   "source": [
    "optmolecule = Atoms(mol_eq.elements, positions=mol_eq.atom_coords())"
   ],
   "metadata": {
    "collapsed": false
   },
   "id": "2929018a4b55f00d"
  },
  {
   "cell_type": "code",
   "execution_count": null,
   "outputs": [],
   "source": [
    "view(optmolecule, viewer='x3d')"
   ],
   "metadata": {
    "collapsed": false
   },
   "id": "e354b4ab723f2595"
  },
  {
   "cell_type": "code",
   "execution_count": null,
   "outputs": [],
   "source": [
    "print(dft_energies[-1])"
   ],
   "metadata": {
    "collapsed": false
   },
   "id": "a0702cea9b516f30"
  },
  {
   "cell_type": "code",
   "execution_count": null,
   "outputs": [],
   "source": [
    "write(f'{round(dft_energies[-1] * 27.2114079527, 3)} -{moleculename}.xyz', optmolecule)"
   ],
   "metadata": {
    "collapsed": false
   },
   "id": "ec9133b878c19297"
  },
  {
   "cell_type": "markdown",
   "source": [
    "Find initial state or final state"
   ],
   "metadata": {
    "collapsed": false
   },
   "id": "8bdab798f21cb0e9"
  },
  {
   "cell_type": "code",
   "execution_count": null,
   "outputs": [],
   "source": [
    "optimisedcoordinates = []\n",
    "\n",
    "for element, coords in zip(mol_eq.elements, mol_eq.atom_coords()):\n",
    "    optimisedcoordinates.append(f\"{element} {' '.join(map(str, coords))}\")\n",
    "\n",
    "optimisedinput = ' ; '.join(optimisedcoordinates)\n"
   ],
   "metadata": {
    "collapsed": false
   },
   "id": "a1720d8eeec1761c"
  },
  {
   "cell_type": "code",
   "execution_count": null,
   "outputs": [],
   "source": [
    "mol = gto.Mole()\n",
    "mol.build(atom = optimisedinput,\n",
    "          basis = 'ccpvdz', \n",
    "          spin = 0,\n",
    "          charge = -1,\n",
    "          unit = 'bohr')"
   ],
   "metadata": {
    "collapsed": false
   },
   "id": "c7a08329de7dc724"
  },
  {
   "cell_type": "code",
   "execution_count": null,
   "outputs": [],
   "source": [
    "mf_hf = dft.RKS(mol)\n",
    "mf_hf.xc = 'pbe' # default\n",
    "mf_hf = mf_hf.newton() # second-order algortihm\n",
    "mf_hf.kernel()"
   ],
   "metadata": {
    "collapsed": false
   },
   "id": "72919a3e8b9e9207"
  },
  {
   "cell_type": "code",
   "execution_count": null,
   "outputs": [],
   "source": [
    "conv_params = { # These are the default settings\n",
    "    'convergence_energy': 1e-6,  # Eh\n",
    "    'convergence_grms': 3e-4,    # Eh/Bohr\n",
    "    'convergence_gmax': 4.5e-4,  # Eh/Bohr\n",
    "    'convergence_drms': 1.2e-3,  # Angstrom\n",
    "    'convergence_dmax': 1.8e-3,  # Angstrom\n",
    "}\n",
    "params = {\"constraints\": \"constraints.txt\"}"
   ],
   "metadata": {
    "collapsed": false
   },
   "id": "66f50627d28eba3b"
  },
  {
   "cell_type": "markdown",
   "source": [
    "Optimise transition state close to scan value"
   ],
   "metadata": {
    "collapsed": false
   },
   "id": "b16ef01176da4dee"
  },
  {
   "cell_type": "code",
   "execution_count": null,
   "outputs": [],
   "source": [
    "mol = gto.Mole()\n",
    "mol.build(atom = \"\"\"\n",
    "F       -1.8204089865    0.2527953652   -0.0262120905\n",
    "C       -0.2745895060    0.2225419907   -0.0194331119\n",
    "Cl       2.0821379095    0.1821534941   -0.0026911966\n",
    "H       -0.0481097714   -0.8499918220   -0.0295830951\n",
    "H       -0.0191260542    0.7412624404    0.9104607373\n",
    "H       -0.0128264004    0.7608567172   -0.9378247848\"\"\",\n",
    "          basis = 'ccpvdz', \n",
    "          spin = 0,\n",
    "          charge = -1,\n",
    "          unit = 'bohr')"
   ],
   "metadata": {
    "collapsed": false
   },
   "id": "3bad440958853ade"
  },
  {
   "cell_type": "code",
   "execution_count": null,
   "outputs": [],
   "source": [
    "mf_hf = dft.RKS(mol)\n",
    "mf_hf.xc = 'pbe' # default\n",
    "mf_hf = mf_hf.newton() # second-order algortihm\n",
    "mf_hf.kernel()"
   ],
   "metadata": {
    "collapsed": false
   },
   "id": "788a92c6c38ef66b"
  },
  {
   "cell_type": "code",
   "execution_count": null,
   "outputs": [],
   "source": [
    "conv_params = { # These are the default settings\n",
    "    'convergence_energy': 1e-6,  # Eh\n",
    "    'convergence_grms': 3e-4,    # Eh/Bohr\n",
    "    'convergence_gmax': 4.5e-4,  # Eh/Bohr\n",
    "    'convergence_drms': 1.2e-3,  # Angstrom\n",
    "    'convergence_dmax': 1.8e-3,  # Angstrom\n",
    "}\n",
    "params = {'transition': True}"
   ],
   "metadata": {
    "collapsed": false
   },
   "id": "f7eaab7c3e41e849"
  },
  {
   "cell_type": "code",
   "execution_count": null,
   "outputs": [],
   "source": [
    "mol_eq = optimize(mf_hf, **conv_params, **params, maxsteps=500, callback=cb)"
   ],
   "metadata": {
    "collapsed": false
   },
   "id": "96dad2cbfafef3c7"
  },
  {
   "cell_type": "markdown",
   "source": [
    "Calculate thermoproperties"
   ],
   "metadata": {
    "collapsed": false
   },
   "id": "37fd6c964ebfdeee"
  },
  {
   "cell_type": "code",
   "execution_count": null,
   "outputs": [],
   "source": [
    "from pyscf.hessian import thermo"
   ],
   "metadata": {
    "collapsed": false
   },
   "id": "6b85e069d1bbd2e9"
  },
  {
   "cell_type": "code",
   "execution_count": null,
   "outputs": [],
   "source": [
    "mol = gto.Mole()\n",
    "mol.build(atom = \"\"\"\n",
    "F       -3.60733123       0.47284034      -0.00930631\n",
    "C       -0.91722962       0.43123757      -0.01265668\n",
    "Cl       5.03944822       0.34185537      -0.01893118\n",
    "H       -0.21105407      -1.53952617      -0.03477183\n",
    "H       -0.16367267       1.38116357       1.69405262\n",
    "H       -0.16741984       1.41794644      -1.70001586\"\"\",\n",
    "          basis = 'ccpvdz', \n",
    "          spin = 0,\n",
    "          charge = -1,\n",
    "          unit = 'bohr')"
   ],
   "metadata": {
    "collapsed": false
   },
   "id": "1a52ffd1505858c2"
  },
  {
   "cell_type": "code",
   "execution_count": null,
   "outputs": [],
   "source": [
    "mf_hf = dft.RKS(mol)\n",
    "mf_hf.xc = 'pbe' # default\n",
    "mf_hf = mf_hf.newton() # second-order algortihm\n",
    "mf_hf.kernel()"
   ],
   "metadata": {
    "collapsed": false
   },
   "id": "ad89bd9fb409778a"
  },
  {
   "cell_type": "code",
   "execution_count": null,
   "outputs": [],
   "source": [
    "hessian = mf_hf.Hessian().kernel()"
   ],
   "metadata": {
    "collapsed": false
   },
   "id": "594639d15dc77ef8"
  },
  {
   "cell_type": "code",
   "execution_count": null,
   "outputs": [],
   "source": [
    "freq_info = thermo.harmonic_analysis(mf_hf.mol, hessian)\n",
    "# Thermochemistry analysis at 298.15 K and 1 atmospheric pressure\n",
    "thermo_info = thermo.thermo(mf_hf, freq_info['freq_au'], 298.15, 101325)\n",
    "\n",
    "print('Total electronic energy')\n",
    "print(thermo_info['E0' ])\n",
    "\n",
    "print('Rotation constant')\n",
    "print(thermo_info['rot_const'])\n",
    "\n",
    "print('Zero-point energy')\n",
    "print(thermo_info['ZPE'   ])\n",
    "\n",
    "print('Internal energy at 0 K')\n",
    "print(thermo_info['E_0K'  ])\n",
    "\n",
    "print('Internal energy at 298.15 K')\n",
    "print(thermo_info['E_tot' ])\n",
    "\n",
    "print('Enthalpy energy at 298.15 K')\n",
    "print(thermo_info['H_tot' ])\n",
    "\n",
    "print('Gibbs free energy at 298.15 K')\n",
    "print(thermo_info['G_tot' ])\n",
    "\n",
    "print('Heat capacity at 298.15 K')\n",
    "print(thermo_info['Cv_tot'])"
   ],
   "metadata": {
    "collapsed": false
   },
   "id": "af342577049aa846"
  },
  {
   "cell_type": "code",
   "execution_count": null,
   "outputs": [],
   "source": [],
   "metadata": {
    "collapsed": false
   },
   "id": "705527be6e064e09"
  }
 ],
 "metadata": {
  "kernelspec": {
   "display_name": "Python 3 (ipykernel)",
   "language": "python",
   "name": "python3"
  },
  "language_info": {
   "codemirror_mode": {
    "name": "ipython",
    "version": 3
   },
   "file_extension": ".py",
   "mimetype": "text/x-python",
   "name": "python",
   "nbconvert_exporter": "python",
   "pygments_lexer": "ipython3",
   "version": "3.9.12"
  }
 },
 "nbformat": 4,
 "nbformat_minor": 5
}
