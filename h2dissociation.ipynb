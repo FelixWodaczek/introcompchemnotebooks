{
 "cells": [
  {
   "cell_type": "markdown",
   "id": "11ff973c",
   "metadata": {},
   "source": [
    "Import your necessary modules.\n",
    "If not already installed, you can install these modules through the command line:\n",
    "\n",
    "pip3 install --user numpy\n",
    "pip3 install --user pyscf\n",
    "pip3 install --user matplotlib"
   ]
  },
  {
   "cell_type": "code",
   "execution_count": null,
   "id": "27cc6680",
   "metadata": {},
   "outputs": [],
   "source": [
    "from pyscf import gto, scf, dft, tddft\n",
    "import numpy as np\n",
    "import matplotlib.pyplot as plt"
   ]
  },
  {
   "cell_type": "markdown",
   "id": "5fae867a",
   "metadata": {},
   "source": [
    "Next, set which range of bond distance you want to do:"
   ]
  },
  {
   "cell_type": "code",
   "execution_count": null,
   "id": "a9f98bbb",
   "metadata": {},
   "outputs": [],
   "source": [
    "length = np.around(np.linspace(0.2, 4.0, 20), decimals=2, out=None)"
   ]
  },
  {
   "cell_type": "markdown",
   "id": "319b11ae",
   "metadata": {},
   "source": []
  },
  {
   "cell_type": "code",
   "execution_count": null,
   "id": "622c4910",
   "metadata": {},
   "outputs": [],
   "source": [
    "mol = gto.Mole()\n",
    "\n",
    "with open(r'./ps.dat', mode='w') as f:\n",
    "    for x in length:\n",
    "        mol.build(\n",
    "            atom = f'H 0 0 0; H 0 0 {x}', # in Angstrom, choose your elements here\n",
    "            basis = 'augccpvqz', #choose your basis set\n",
    "            symmetry = True,\n",
    "        )\n",
    "        mf = dft.RKS(mol) #set this if you want restricted\n",
    "        #mf = dft.UKS(mol) #set this if you want unrestricted\n",
    "        mf.xc = 'b3lyp'\n",
    "        gd = mf.kernel()\n",
    "        print(str((float(gd) * 27.211399)) + ' eV' )\n",
    "    \n",
    "        res = f'{x} {gd * 27.211399}'\n",
    "        f.write(f'{res}\\n')"
   ]
  },
  {
   "cell_type": "code",
   "execution_count": null,
   "id": "e5b772eb",
   "metadata": {},
   "outputs": [],
   "source": [
    "pes = np.loadtxt(r'./ps.dat')\n",
    "dis = pes[:,0]\n",
    "grnd = pes[:,1]"
   ]
  },
  {
   "cell_type": "code",
   "execution_count": null,
   "id": "20766081",
   "metadata": {},
   "outputs": [],
   "source": [
    "fig = plt.figure()\n",
    "\n",
    "plt.xlabel('Bond Distance (Angstroms)')\n",
    "plt.ylabel('Energy (eV)')\n",
    "\n",
    "plt.plot(dis, grnd, marker='o', label='B3LYP')\n",
    "\n",
    "plt.legend()\n",
    "\n",
    "#plt.savefig('fig1.pdf')\n",
    "\n",
    "plt.figure()"
   ]
  },
  {
   "cell_type": "code",
   "execution_count": null,
   "id": "a13acfb0",
   "metadata": {},
   "outputs": [],
   "source": []
  }
 ],
 "metadata": {
  "kernelspec": {
   "display_name": "Python 3 (ipykernel)",
   "language": "python",
   "name": "python3"
  },
  "language_info": {
   "codemirror_mode": {
    "name": "ipython",
    "version": 3
   },
   "file_extension": ".py",
   "mimetype": "text/x-python",
   "name": "python",
   "nbconvert_exporter": "python",
   "pygments_lexer": "ipython3",
   "version": "3.11.4"
  }
 },
 "nbformat": 4,
 "nbformat_minor": 5
}
